{
 "cells": [
  {
   "cell_type": "code",
   "execution_count": 162,
   "id": "e452594b",
   "metadata": {},
   "outputs": [],
   "source": [
    "import math"
   ]
  },
  {
   "cell_type": "code",
   "execution_count": 167,
   "id": "37f1fc30",
   "metadata": {},
   "outputs": [],
   "source": [
    "class ClosestStringTree:\n",
    "    def __init__(self, strings):\n",
    "        self.strings = strings.copy()\n",
    "        self.n = len(self.strings)\n",
    "        self.m = len(self.strings[0])\n",
    "        for string in self.strings:\n",
    "            assert len(string) == self.m\n",
    "\n",
    "        self.S = []\n",
    "        self.costs = []\n",
    "        for i in range(self.m):\n",
    "            S_i = []\n",
    "            for j in range(self.n):\n",
    "                S_i.append(self.strings[j][i])\n",
    "            most_common = max(set(S_i), key=S_i.count)\n",
    "            cost = sum([most_common != c for c in S_i])\n",
    "            self.costs.append(cost)\n",
    "            self.S.append(set(S_i))      \n",
    "        \n",
    "        # Initial solution\n",
    "        self.s = 'a'*self.m\n",
    "        self.d = self.cost(self.s)      \n",
    "        \n",
    "        self.iterations = 0\n",
    "        self.branch()\n",
    "        self.report()\n",
    "    \n",
    "    def branch(self, s=''):\n",
    "        self.iterations += 1\n",
    "        i = len(s)\n",
    "        if i == self.m:\n",
    "            d = self.cost(s)\n",
    "            if d < self.d:\n",
    "                self.d = d\n",
    "                self.s = s\n",
    "            return\n",
    "        if self.best_cost(s) > self.d:\n",
    "#             print('here')\n",
    "            # Bound\n",
    "            return\n",
    "        S_i = self.S[i]\n",
    "        for char in S_i:\n",
    "            self.branch(s + char)\n",
    "            \n",
    "    def best_cost(self, s):\n",
    "        start = len(s)\n",
    "        actual_cost = self.cost(s, [string[:start] for string in self.strings])\n",
    "        best_after_cost = math.ceil(sum(self.costs[start:])/(self.m - start))\n",
    "        return actual_cost + best_after_cost\n",
    "            \n",
    "    def cost(self, s, strings=None):\n",
    "        if strings is None:\n",
    "            ds = [self.hamming(s, s_i) for s_i in self.strings]\n",
    "        else:\n",
    "            ds = [self.hamming(s, s_i) for s_i in strings]\n",
    "        return max(ds)\n",
    "    \n",
    "    def hamming(self, s_1, s_2):\n",
    "        return sum([c_1 != c_2 for c_1, c_2 in zip(s_1, s_2)])\n",
    "    \n",
    "    def report(self):\n",
    "        print('The solution is {}.'.format(self.s))\n",
    "        print('The cost is {}.'.format(self.d))\n",
    "        print('The number of iterations was {}.'.format(self.iterations))"
   ]
  },
  {
   "cell_type": "code",
   "execution_count": 168,
   "id": "aa547d18",
   "metadata": {},
   "outputs": [
    {
     "data": {
      "text/plain": [
       "'gategategategategategategategate'"
      ]
     },
     "execution_count": 168,
     "metadata": {},
     "output_type": "execute_result"
    }
   ],
   "source": [
    "'gate'*8"
   ]
  },
  {
   "cell_type": "code",
   "execution_count": 169,
   "id": "532465e3",
   "metadata": {},
   "outputs": [],
   "source": [
    "strings = [\n",
    "    'gato'*8,\n",
    "    'game'*8,\n",
    "    'gamo'*8\n",
    "]"
   ]
  },
  {
   "cell_type": "code",
   "execution_count": 170,
   "id": "2d5a1244",
   "metadata": {},
   "outputs": [
    {
     "name": "stdout",
     "output_type": "stream",
     "text": [
      "The solution is gamogamogamogamogamogamogamogamo.\n",
      "The cost is 8.\n",
      "The number of iterations was 28779.\n"
     ]
    }
   ],
   "source": [
    "ClosestStringTree(strings);"
   ]
  },
  {
   "cell_type": "code",
   "execution_count": 148,
   "id": "821719db",
   "metadata": {},
   "outputs": [
    {
     "name": "stdout",
     "output_type": "stream",
     "text": [
      "The solution is gamogamogamogamogamogamogamogamo.\n",
      "The cost is 8.\n",
      "The number of iterations was 109225.\n"
     ]
    }
   ],
   "source": [
    "ClosestStringTree(strings);"
   ]
  }
 ],
 "metadata": {
  "kernelspec": {
   "display_name": "Python 3",
   "language": "python",
   "name": "python3"
  },
  "language_info": {
   "codemirror_mode": {
    "name": "ipython",
    "version": 3
   },
   "file_extension": ".py",
   "mimetype": "text/x-python",
   "name": "python",
   "nbconvert_exporter": "python",
   "pygments_lexer": "ipython3",
   "version": "3.9.6"
  }
 },
 "nbformat": 4,
 "nbformat_minor": 5
}
