{
 "cells": [
  {
   "cell_type": "code",
   "execution_count": 1,
   "id": "c9b6a49d",
   "metadata": {},
   "outputs": [],
   "source": [
    "from geopy.distance import great_circle\n",
    "from geopy.exc import GeocoderTimedOut\n",
    "from geopy.geocoders import Nominatim\n",
    "import json\n",
    "import time"
   ]
  },
  {
   "cell_type": "code",
   "execution_count": 2,
   "id": "eb629944",
   "metadata": {},
   "outputs": [],
   "source": [
    "geolocator = Nominatim(user_agent=\"data-structures-algorithms\")"
   ]
  },
  {
   "cell_type": "code",
   "execution_count": 3,
   "id": "6255df54",
   "metadata": {},
   "outputs": [],
   "source": [
    "cities = [\n",
    "    'Porto Velho, Rondônia, Brazil',\n",
    "    'Manaus, Amazonas, Brazil',\n",
    "    'Rio Branco, Acre, Brazil',\n",
    "    'Campo Grande, Mato Grosso do Sul, Brazil',\n",
    "    'Brasília, Distrito Federal, Brazil',\n",
    "    'Boa Vista, Roraima, Brazil',\n",
    "    'Cuiabá, Mato Grosso, Brazil',\n",
    "#     'Palmas, Tocantins, Brazil',\n",
    "    'São Paulo, São Paulo, Brazil',\n",
    "    'Teresina, Piauí, Brazil',\n",
    "    'Rio de Janeiro, Rio de Janeiro, Brazil',\n",
    "    'Belém, Pará, Brazil',\n",
    "    'Goiânia, Goiás, Brazil',\n",
    "    'Salvador, Bahia, Brazil',\n",
    "    'Florianópolis, Santa Catarina, Brazil',\n",
    "    'São Luís, Maranhão, Brazil',\n",
    "    'Maceió, Alagoas, Brazil',\n",
    "    'Porto Alegre, Rio Grande do Sul, Brazil',\n",
    "    'Curitiba, Paraná, Brazil',\n",
    "    'Belo Horizonte, Minas Gerais, Brazil',\n",
    "    'Fortaleza, Ceará, Brazil',\n",
    "    'Recife, Pernambuco, Brazil',\n",
    "    'João Pessoa, Paraíba, Brazil',\n",
    "    'Aracaju, Sergipe, Brazil',\n",
    "    'Natal, Rio Grande do Norte, Brazil',\n",
    "    'Vitória, Espírito Santo, Brazil',\n",
    "    'Macapá, Amapá, Brazil'\n",
    "]"
   ]
  },
  {
   "cell_type": "code",
   "execution_count": 4,
   "id": "0fc888de",
   "metadata": {},
   "outputs": [],
   "source": [
    "def coordinates(city):\n",
    "    print(city)\n",
    "    for i in range(10):\n",
    "        try:\n",
    "            location = geolocator.geocode(city)\n",
    "            break\n",
    "        except:\n",
    "            time.sleep(5)\n",
    "    return (location.latitude, location.longitude)"
   ]
  },
  {
   "cell_type": "code",
   "execution_count": 5,
   "id": "b44e5dd9",
   "metadata": {
    "scrolled": false
   },
   "outputs": [
    {
     "name": "stdout",
     "output_type": "stream",
     "text": [
      "Porto Velho, Rondônia, Brazil\n",
      "Manaus, Amazonas, Brazil\n",
      "Rio Branco, Acre, Brazil\n",
      "Campo Grande, Mato Grosso do Sul, Brazil\n",
      "Brasília, Distrito Federal, Brazil\n",
      "Boa Vista, Roraima, Brazil\n",
      "Cuiabá, Mato Grosso, Brazil\n",
      "São Paulo, São Paulo, Brazil\n",
      "Teresina, Piauí, Brazil\n",
      "Rio de Janeiro, Rio de Janeiro, Brazil\n",
      "Belém, Pará, Brazil\n",
      "Goiânia, Goiás, Brazil\n",
      "Salvador, Bahia, Brazil\n",
      "Florianópolis, Santa Catarina, Brazil\n",
      "São Luís, Maranhão, Brazil\n",
      "Maceió, Alagoas, Brazil\n",
      "Porto Alegre, Rio Grande do Sul, Brazil\n",
      "Curitiba, Paraná, Brazil\n",
      "Belo Horizonte, Minas Gerais, Brazil\n",
      "Fortaleza, Ceará, Brazil\n",
      "Recife, Pernambuco, Brazil\n",
      "João Pessoa, Paraíba, Brazil\n",
      "Aracaju, Sergipe, Brazil\n",
      "Natal, Rio Grande do Norte, Brazil\n",
      "Vitória, Espírito Santo, Brazil\n"
     ]
    }
   ],
   "source": [
    "city_coordinates = {city: coordinates(city) for city in cities}"
   ]
  },
  {
   "cell_type": "code",
   "execution_count": 6,
   "id": "89aaf20c",
   "metadata": {},
   "outputs": [],
   "source": [
    "def distance(origin, destination):\n",
    "    '''Distance between two cities.'''\n",
    "    return great_circle(city_coordinates[origin], city_coordinates[destination]).km"
   ]
  },
  {
   "cell_type": "code",
   "execution_count": 7,
   "id": "26fa7c8d",
   "metadata": {},
   "outputs": [],
   "source": [
    "def road_distance(origin, destination):\n",
    "    '''Road distance between two cities.'''\n",
    "    origin = origin.split(',')[0]\n",
    "    destination = destination.split(',')[0]\n",
    "    try:\n",
    "        return road_distances[origin+':'+destination]\n",
    "    except:\n",
    "        return road_distances[destination+':'+origin]"
   ]
  },
  {
   "cell_type": "code",
   "execution_count": 8,
   "id": "61fd475e",
   "metadata": {},
   "outputs": [],
   "source": [
    "with open('../data/city_distances.json') as f:\n",
    "    road_distances = json.load(f)"
   ]
  },
  {
   "cell_type": "code",
   "execution_count": 79,
   "id": "7b8c1155",
   "metadata": {},
   "outputs": [],
   "source": [
    "def a_star(origin, destination):\n",
    "    '''A* algorithm.'''\n",
    "    # Frontier of the search algorithm\n",
    "    frontier = [\n",
    "        [origin, distance(origin, destination), ['']]\n",
    "    ]\n",
    "    while True:\n",
    "        # Find the minimum cost path\n",
    "        index = 0\n",
    "        for i, list_ in enumerate(frontier):\n",
    "            if list_[1] < frontier[index][1]:\n",
    "                index = i\n",
    "        # Delete node from frontier\n",
    "        list_ = frontier[index]\n",
    "        node = list_[0]\n",
    "        cost = list_[1]\n",
    "        history = list_[2]\n",
    "        print(history, node)\n",
    "        if node == destination:\n",
    "            break\n",
    "        del frontier[index]\n",
    "        \n",
    "        # Add new nodes\n",
    "        history = history.copy()\n",
    "        history.append(node)\n",
    "        for city in cities:\n",
    "            if city == node:\n",
    "                continue\n",
    "            new_cost = cost + road_distance(node, city) + distance(city, destination) - distance(node, destination)\n",
    "            frontier.append([city, new_cost, history.copy()])\n",
    "            frontier\n",
    "#         print(frontier)\n",
    "        print()"
   ]
  },
  {
   "cell_type": "code",
   "execution_count": 80,
   "id": "37a968e9",
   "metadata": {
    "scrolled": false
   },
   "outputs": [
    {
     "name": "stdout",
     "output_type": "stream",
     "text": [
      "[''] Boa Vista, Roraima, Brazil\n",
      "\n",
      "['', 'Boa Vista, Roraima, Brazil'] Manaus, Amazonas, Brazil\n",
      "\n",
      "['', 'Boa Vista, Roraima, Brazil', 'Manaus, Amazonas, Brazil'] Porto Velho, Rondônia, Brazil\n",
      "\n",
      "['', 'Boa Vista, Roraima, Brazil'] Porto Velho, Rondônia, Brazil\n",
      "\n",
      "['', 'Boa Vista, Roraima, Brazil', 'Manaus, Amazonas, Brazil'] Cuiabá, Mato Grosso, Brazil\n",
      "\n",
      "['', 'Boa Vista, Roraima, Brazil', 'Manaus, Amazonas, Brazil', 'Porto Velho, Rondônia, Brazil'] Cuiabá, Mato Grosso, Brazil\n",
      "\n",
      "['', 'Boa Vista, Roraima, Brazil', 'Porto Velho, Rondônia, Brazil'] Cuiabá, Mato Grosso, Brazil\n",
      "\n",
      "['', 'Boa Vista, Roraima, Brazil'] Cuiabá, Mato Grosso, Brazil\n",
      "\n",
      "['', 'Boa Vista, Roraima, Brazil'] Campo Grande, Mato Grosso do Sul, Brazil\n",
      "\n",
      "['', 'Boa Vista, Roraima, Brazil', 'Manaus, Amazonas, Brazil'] Campo Grande, Mato Grosso do Sul, Brazil\n",
      "\n",
      "['', 'Boa Vista, Roraima, Brazil', 'Manaus, Amazonas, Brazil', 'Porto Velho, Rondônia, Brazil'] Campo Grande, Mato Grosso do Sul, Brazil\n",
      "\n",
      "['', 'Boa Vista, Roraima, Brazil', 'Manaus, Amazonas, Brazil', 'Cuiabá, Mato Grosso, Brazil'] Campo Grande, Mato Grosso do Sul, Brazil\n",
      "\n",
      "['', 'Boa Vista, Roraima, Brazil', 'Manaus, Amazonas, Brazil', 'Porto Velho, Rondônia, Brazil', 'Cuiabá, Mato Grosso, Brazil'] Campo Grande, Mato Grosso do Sul, Brazil\n",
      "\n",
      "['', 'Boa Vista, Roraima, Brazil', 'Porto Velho, Rondônia, Brazil'] Campo Grande, Mato Grosso do Sul, Brazil\n",
      "\n",
      "['', 'Boa Vista, Roraima, Brazil', 'Porto Velho, Rondônia, Brazil', 'Cuiabá, Mato Grosso, Brazil'] Campo Grande, Mato Grosso do Sul, Brazil\n",
      "\n",
      "['', 'Boa Vista, Roraima, Brazil', 'Cuiabá, Mato Grosso, Brazil'] Campo Grande, Mato Grosso do Sul, Brazil\n",
      "\n",
      "['', 'Boa Vista, Roraima, Brazil', 'Manaus, Amazonas, Brazil'] Rio Branco, Acre, Brazil\n",
      "\n",
      "['', 'Boa Vista, Roraima, Brazil', 'Manaus, Amazonas, Brazil', 'Porto Velho, Rondônia, Brazil'] Rio Branco, Acre, Brazil\n",
      "\n",
      "['', 'Boa Vista, Roraima, Brazil', 'Porto Velho, Rondônia, Brazil'] Rio Branco, Acre, Brazil\n",
      "\n",
      "['', 'Boa Vista, Roraima, Brazil'] Rio Branco, Acre, Brazil\n",
      "\n",
      "['', 'Boa Vista, Roraima, Brazil', 'Manaus, Amazonas, Brazil'] Porto Alegre, Rio Grande do Sul, Brazil\n"
     ]
    }
   ],
   "source": [
    "origin = 'Boa Vista, Roraima, Brazil'\n",
    "destination = 'Porto Alegre, Rio Grande do Sul, Brazil'\n",
    "\n",
    "a_star(origin, destination)"
   ]
  },
  {
   "cell_type": "code",
   "execution_count": null,
   "id": "43d850b6",
   "metadata": {},
   "outputs": [],
   "source": []
  }
 ],
 "metadata": {
  "kernelspec": {
   "display_name": "Python 3",
   "language": "python",
   "name": "python3"
  },
  "language_info": {
   "codemirror_mode": {
    "name": "ipython",
    "version": 3
   },
   "file_extension": ".py",
   "mimetype": "text/x-python",
   "name": "python",
   "nbconvert_exporter": "python",
   "pygments_lexer": "ipython3",
   "version": "3.9.6"
  }
 },
 "nbformat": 4,
 "nbformat_minor": 5
}
