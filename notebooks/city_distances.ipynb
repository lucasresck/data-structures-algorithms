{
 "cells": [
  {
   "cell_type": "markdown",
   "id": "bd26a8eb",
   "metadata": {},
   "source": [
    "# City distances"
   ]
  },
  {
   "cell_type": "markdown",
   "id": "fd5acee2",
   "metadata": {},
   "source": [
    "Find the best route from city A to B, using $A^\\ast$ algorithm."
   ]
  },
  {
   "cell_type": "markdown",
   "id": "c235c89c",
   "metadata": {},
   "source": [
    "## Setup"
   ]
  },
  {
   "cell_type": "code",
   "execution_count": 1,
   "id": "c9b6a49d",
   "metadata": {},
   "outputs": [],
   "source": [
    "from geopy.distance import great_circle\n",
    "from geopy.exc import GeocoderTimedOut\n",
    "from geopy.geocoders import Nominatim\n",
    "import json\n",
    "import time"
   ]
  },
  {
   "cell_type": "code",
   "execution_count": 2,
   "id": "eb629944",
   "metadata": {},
   "outputs": [],
   "source": [
    "geolocator = Nominatim(user_agent=\"data-structures-algorithms\")"
   ]
  },
  {
   "cell_type": "code",
   "execution_count": 3,
   "id": "0fc888de",
   "metadata": {},
   "outputs": [],
   "source": [
    "def coordinates(city):\n",
    "    '''Extract the coordinates of a city.'''\n",
    "    print(city)\n",
    "    for i in range(10):\n",
    "        try:\n",
    "            location = geolocator.geocode(city)\n",
    "            break\n",
    "        except:\n",
    "            time.sleep(5)\n",
    "    return (location.latitude, location.longitude)"
   ]
  },
  {
   "cell_type": "code",
   "execution_count": 4,
   "id": "89aaf20c",
   "metadata": {},
   "outputs": [],
   "source": [
    "def distance(origin, destination):\n",
    "    '''Distance between two cities.'''\n",
    "    return great_circle(city_coordinates[origin], city_coordinates[destination]).km"
   ]
  },
  {
   "cell_type": "code",
   "execution_count": 5,
   "id": "26fa7c8d",
   "metadata": {},
   "outputs": [],
   "source": [
    "def road_distance(origin, destination):\n",
    "    '''Road distance between two cities.'''\n",
    "    origin = origin.split(',')[0]\n",
    "    destination = destination.split(',')[0]\n",
    "    try:\n",
    "        return road_distances[origin+':'+destination]\n",
    "    except:\n",
    "        return road_distances[destination+':'+origin]"
   ]
  },
  {
   "cell_type": "markdown",
   "id": "655a1934",
   "metadata": {},
   "source": [
    "## Data"
   ]
  },
  {
   "cell_type": "markdown",
   "id": "3b924828",
   "metadata": {},
   "source": [
    "A list of cities and a JSON with the road distances between them."
   ]
  },
  {
   "cell_type": "code",
   "execution_count": 6,
   "id": "6255df54",
   "metadata": {},
   "outputs": [],
   "source": [
    "cities = [\n",
    "    'Porto Velho, Rondônia, Brazil',\n",
    "    'Manaus, Amazonas, Brazil',\n",
    "    'Rio Branco, Acre, Brazil',\n",
    "    'Campo Grande, Mato Grosso do Sul, Brazil',\n",
    "    'Brasília, Distrito Federal, Brazil',\n",
    "    'Boa Vista, Roraima, Brazil',\n",
    "    'Cuiabá, Mato Grosso, Brazil',\n",
    "#     'Palmas, Tocantins, Brazil',\n",
    "    'São Paulo, São Paulo, Brazil',\n",
    "    'Teresina, Piauí, Brazil',\n",
    "    'Rio de Janeiro, Rio de Janeiro, Brazil',\n",
    "    'Belém, Pará, Brazil',\n",
    "    'Goiânia, Goiás, Brazil',\n",
    "    'Salvador, Bahia, Brazil',\n",
    "    'Florianópolis, Santa Catarina, Brazil',\n",
    "    'São Luís, Maranhão, Brazil',\n",
    "    'Maceió, Alagoas, Brazil',\n",
    "    'Porto Alegre, Rio Grande do Sul, Brazil',\n",
    "    'Curitiba, Paraná, Brazil',\n",
    "    'Belo Horizonte, Minas Gerais, Brazil',\n",
    "    'Fortaleza, Ceará, Brazil',\n",
    "    'Recife, Pernambuco, Brazil',\n",
    "    'João Pessoa, Paraíba, Brazil',\n",
    "    'Aracaju, Sergipe, Brazil',\n",
    "    'Natal, Rio Grande do Norte, Brazil',\n",
    "    'Vitória, Espírito Santo, Brazil',\n",
    "#     'Macapá, Amapá, Brazil'\n",
    "]"
   ]
  },
  {
   "cell_type": "code",
   "execution_count": 7,
   "id": "61fd475e",
   "metadata": {},
   "outputs": [],
   "source": [
    "with open('../data/city_distances.json') as f:\n",
    "    road_distances = json.load(f)"
   ]
  },
  {
   "cell_type": "code",
   "execution_count": 8,
   "id": "b44e5dd9",
   "metadata": {
    "scrolled": false
   },
   "outputs": [
    {
     "name": "stdout",
     "output_type": "stream",
     "text": [
      "Porto Velho, Rondônia, Brazil\n",
      "Manaus, Amazonas, Brazil\n",
      "Rio Branco, Acre, Brazil\n",
      "Campo Grande, Mato Grosso do Sul, Brazil\n",
      "Brasília, Distrito Federal, Brazil\n",
      "Boa Vista, Roraima, Brazil\n",
      "Cuiabá, Mato Grosso, Brazil\n",
      "São Paulo, São Paulo, Brazil\n",
      "Teresina, Piauí, Brazil\n",
      "Rio de Janeiro, Rio de Janeiro, Brazil\n",
      "Belém, Pará, Brazil\n",
      "Goiânia, Goiás, Brazil\n",
      "Salvador, Bahia, Brazil\n",
      "Florianópolis, Santa Catarina, Brazil\n",
      "São Luís, Maranhão, Brazil\n",
      "Maceió, Alagoas, Brazil\n",
      "Porto Alegre, Rio Grande do Sul, Brazil\n",
      "Curitiba, Paraná, Brazil\n",
      "Belo Horizonte, Minas Gerais, Brazil\n",
      "Fortaleza, Ceará, Brazil\n",
      "Recife, Pernambuco, Brazil\n",
      "João Pessoa, Paraíba, Brazil\n",
      "Aracaju, Sergipe, Brazil\n",
      "Natal, Rio Grande do Norte, Brazil\n",
      "Vitória, Espírito Santo, Brazil\n"
     ]
    }
   ],
   "source": [
    "city_coordinates = {city: coordinates(city) for city in cities}"
   ]
  },
  {
   "cell_type": "code",
   "execution_count": 34,
   "id": "7b8c1155",
   "metadata": {},
   "outputs": [],
   "source": [
    "def a_star(origin, destination):\n",
    "    '''A* algorithm.'''\n",
    "    # Frontier of the search algorithm\n",
    "    frontier = [\n",
    "        [origin, distance(origin, destination), ['']]\n",
    "    ]\n",
    "    while True:\n",
    "        # Find the minimum cost path\n",
    "        index = 0\n",
    "        for i, list_ in enumerate(frontier):\n",
    "            if list_[1] < frontier[index][1]:\n",
    "                index = i\n",
    "        # Delete node from frontier\n",
    "        list_ = frontier[index]\n",
    "        node = list_[0]\n",
    "        cost = list_[1]\n",
    "        history = list_[2]\n",
    "        \n",
    "        [print(city, end='    ') for city in history]\n",
    "        print(node.split(',')[0], end='    ')\n",
    "        print(int(cost - distance(node, destination)))\n",
    "        \n",
    "        if node == destination:\n",
    "            break\n",
    "        del frontier[index]\n",
    "        \n",
    "        # Add new nodes\n",
    "        history = history.copy()\n",
    "        history.append(node.split(',')[0])\n",
    "        for city in cities:\n",
    "            if city == node:\n",
    "                continue\n",
    "            new_cost = cost + road_distance(node, city) + distance(city, destination) - distance(node, destination)\n",
    "            frontier.append([city, new_cost, history.copy()])\n",
    "            frontier\n",
    "#         print(frontier)\n",
    "        print()"
   ]
  },
  {
   "cell_type": "code",
   "execution_count": 35,
   "id": "37a968e9",
   "metadata": {
    "scrolled": false
   },
   "outputs": [
    {
     "name": "stdout",
     "output_type": "stream",
     "text": [
      "    Porto Alegre    0\n",
      "\n",
      "    Porto Alegre    Florianópolis    476\n",
      "\n",
      "    Porto Alegre    Curitiba    711\n",
      "\n",
      "    Porto Alegre    Campo Grande    1518\n",
      "\n",
      "    Porto Alegre    Florianópolis    Curitiba    776\n",
      "\n",
      "    Porto Alegre    Curitiba    Campo Grande    1702\n",
      "\n",
      "    Porto Alegre    Florianópolis    Curitiba    Campo Grande    1767\n",
      "\n",
      "    Porto Alegre    Florianópolis    Campo Grande    1774\n",
      "\n",
      "    Porto Alegre    Cuiabá    2206\n",
      "\n",
      "    Porto Alegre    Campo Grande    Cuiabá    2212\n",
      "\n",
      "    Porto Alegre    Florianópolis    Porto Alegre    952\n",
      "\n",
      "    Porto Alegre    Curitiba    Cuiabá    2390\n",
      "\n",
      "    Porto Alegre    Curitiba    Campo Grande    Cuiabá    2396\n",
      "\n",
      "    Porto Alegre    São Paulo    1108\n",
      "\n",
      "    Porto Alegre    Curitiba    Florianópolis    1011\n",
      "\n",
      "    Porto Alegre    Curitiba    São Paulo    1118\n",
      "\n",
      "    Porto Alegre    Florianópolis    Curitiba    Cuiabá    2455\n",
      "\n",
      "    Porto Alegre    Florianópolis    Curitiba    Campo Grande    Cuiabá    2461\n",
      "\n",
      "    Porto Alegre    Florianópolis    Cuiabá    2462\n",
      "\n",
      "    Porto Alegre    Florianópolis    Campo Grande    Cuiabá    2468\n",
      "\n",
      "    Porto Alegre    Florianópolis    Curitiba    Florianópolis    1076\n",
      "\n",
      "    Porto Alegre    Florianópolis    São Paulo    1181\n",
      "\n",
      "    Porto Alegre    Florianópolis    Curitiba    São Paulo    1184\n",
      "\n",
      "    Porto Alegre    Curitiba    Florianópolis    Curitiba    1311\n",
      "\n",
      "    Porto Alegre    São Paulo    Campo Grande    2122\n",
      "\n",
      "    Porto Alegre    Curitiba    São Paulo    Campo Grande    2132\n",
      "\n",
      "    Porto Alegre    Florianópolis    Curitiba    Florianópolis    Curitiba    1376\n",
      "\n",
      "    Porto Alegre    Goiânia    1847\n",
      "\n",
      "    Porto Alegre    Florianópolis    São Paulo    Campo Grande    2195\n",
      "\n",
      "    Porto Alegre    Florianópolis    Curitiba    São Paulo    Campo Grande    2198\n",
      "\n",
      "    Porto Alegre    Curitiba    Goiânia    1897\n",
      "\n",
      "    Porto Alegre    Florianópolis    Curitiba    Goiânia    1962\n",
      "\n",
      "    Porto Alegre    Florianópolis    Goiânia    1969\n",
      "\n",
      "    Porto Alegre    Porto Velho    3662\n",
      "\n",
      "    Porto Alegre    Cuiabá    Porto Velho    3662\n",
      "\n",
      "    Porto Alegre    São Paulo    Curitiba    1516\n",
      "\n",
      "    Porto Alegre    Campo Grande    Porto Velho    3668\n",
      "\n",
      "    Porto Alegre    Campo Grande    Cuiabá    Porto Velho    3668\n",
      "\n",
      "    Porto Alegre    Curitiba    São Paulo    Curitiba    1526\n",
      "\n",
      "    Porto Alegre    Curitiba    Florianópolis    Curitiba    Campo Grande    2302\n",
      "\n",
      "    Porto Alegre    São Paulo    Cuiabá    2722\n",
      "\n",
      "    Porto Alegre    Curitiba    Florianópolis    Campo Grande    2309\n",
      "\n",
      "    Porto Alegre    Curitiba    São Paulo    Cuiabá    2732\n",
      "\n",
      "    Porto Alegre    São Paulo    Goiânia    2034\n",
      "\n",
      "    Porto Alegre    Curitiba    São Paulo    Goiânia    2044\n",
      "\n",
      "    Porto Alegre    Florianópolis    São Paulo    Curitiba    1589\n",
      "\n",
      "    Porto Alegre    Florianópolis    Curitiba    São Paulo    Curitiba    1592\n",
      "\n",
      "    Porto Alegre    Rio Branco    4196\n"
     ]
    }
   ],
   "source": [
    "origin = 'Porto Alegre, Rio Grande do Sul, Brazil'\n",
    "destination = 'Rio Branco, Acre, Brazil'\n",
    "\n",
    "a_star(origin, destination)"
   ]
  },
  {
   "cell_type": "code",
   "execution_count": 23,
   "id": "906406ea",
   "metadata": {},
   "outputs": [
    {
     "name": "stdout",
     "output_type": "stream",
     "text": [
      "544\n"
     ]
    },
    {
     "data": {
      "text/plain": [
       "4212.0"
      ]
     },
     "execution_count": 23,
     "metadata": {},
     "output_type": "execute_result"
    }
   ],
   "source": [
    "print(road_distance('Porto Velho', 'Rio Branco'))\n",
    "3668.0 + road_distance('Porto Velho', 'Rio Branco')"
   ]
  },
  {
   "cell_type": "markdown",
   "id": "790f77c6",
   "metadata": {},
   "source": [
    "The last line is the chosen path."
   ]
  }
 ],
 "metadata": {
  "kernelspec": {
   "display_name": "Python 3",
   "language": "python",
   "name": "python3"
  },
  "language_info": {
   "codemirror_mode": {
    "name": "ipython",
    "version": 3
   },
   "file_extension": ".py",
   "mimetype": "text/x-python",
   "name": "python",
   "nbconvert_exporter": "python",
   "pygments_lexer": "ipython3",
   "version": "3.9.6"
  }
 },
 "nbformat": 4,
 "nbformat_minor": 5
}
