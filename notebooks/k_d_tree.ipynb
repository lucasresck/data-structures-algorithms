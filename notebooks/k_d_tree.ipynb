{
 "cells": [
  {
   "cell_type": "markdown",
   "id": "e6781b3f",
   "metadata": {},
   "source": [
    "# k-d tree"
   ]
  },
  {
   "cell_type": "markdown",
   "id": "b34cf456",
   "metadata": {},
   "source": [
    "## Setup"
   ]
  },
  {
   "cell_type": "code",
   "execution_count": 1,
   "id": "3d30a123",
   "metadata": {},
   "outputs": [],
   "source": [
    "import json\n",
    "import matplotlib.pyplot as plt\n",
    "import numpy as np\n",
    "import os\n",
    "import seaborn as sns\n",
    "import sys\n",
    "\n",
    "sns.set()\n",
    "sys.path.append('../trees/scripts/')\n",
    "\n",
    "from k_d_tree import KDTree"
   ]
  },
  {
   "cell_type": "code",
   "execution_count": 2,
   "id": "062e47e8",
   "metadata": {},
   "outputs": [],
   "source": [
    "data_path = os.path.join('../data/')\n",
    "n_hospitals = 10\n",
    "n_patients = 7\n",
    "np.random.seed(42)"
   ]
  },
  {
   "cell_type": "markdown",
   "id": "6b63c335",
   "metadata": {},
   "source": [
    "## Data"
   ]
  },
  {
   "cell_type": "code",
   "execution_count": 3,
   "id": "615397d4",
   "metadata": {
    "scrolled": true
   },
   "outputs": [
    {
     "data": {
      "text/plain": [
       "{'hospitais': [{'localização': [0.62, 0.61],\n",
       "   'pacientes': [{'peso': 91, 'idade': 29, 'saturação': 90},\n",
       "    {'peso': 111, 'idade': 75, 'saturação': 100},\n",
       "    {'peso': 122, 'idade': 89, 'saturação': 90},\n",
       "    {'peso': 127, 'idade': 38, 'saturação': 82},\n",
       "    {'peso': 61, 'idade': 67, 'saturação': 81},\n",
       "    {'peso': 127, 'idade': 44, 'saturação': 85},\n",
       "    {'peso': 41, 'idade': 78, 'saturação': 100}]},\n",
       "  {'localização': [0.81, 0.3],\n",
       "   'pacientes': [{'peso': 128, 'idade': 63, 'saturação': 89},\n",
       "    {'peso': 99, 'idade': 29, 'saturação': 94},\n",
       "    {'peso': 101, 'idade': 65, 'saturação': 91},\n",
       "    {'peso': 94, 'idade': 78, 'saturação': 82},\n",
       "    {'peso': 90, 'idade': 21, 'saturação': 100},\n",
       "    {'peso': 112, 'idade': 53, 'saturação': 97},\n",
       "    {'peso': 43, 'idade': 74, 'saturação': 93}]},\n",
       "  {'localização': [0.4, 0.93],\n",
       "   'pacientes': [{'peso': 92, 'idade': 16, 'saturação': 99},\n",
       "    {'peso': 99, 'idade': 85, 'saturação': 91},\n",
       "    {'peso': 47, 'idade': 61, 'saturação': 82},\n",
       "    {'peso': 117, 'idade': 50, 'saturação': 97},\n",
       "    {'peso': 43, 'idade': 16, 'saturação': 85},\n",
       "    {'peso': 93, 'idade': 18, 'saturação': 97},\n",
       "    {'peso': 129, 'idade': 58, 'saturação': 81}]},\n",
       "  {'localização': [0.2, 0.71],\n",
       "   'pacientes': [{'peso': 87, 'idade': 29, 'saturação': 87},\n",
       "    {'peso': 117, 'idade': 76, 'saturação': 87},\n",
       "    {'peso': 124, 'idade': 67, 'saturação': 92},\n",
       "    {'peso': 80, 'idade': 43, 'saturação': 94},\n",
       "    {'peso': 84, 'idade': 79, 'saturação': 86},\n",
       "    {'peso': 48, 'idade': 15, 'saturação': 91},\n",
       "    {'peso': 47, 'idade': 77, 'saturação': 90}]},\n",
       "  {'localização': [0.72, 0.24],\n",
       "   'pacientes': [{'peso': 74, 'idade': 47, 'saturação': 84},\n",
       "    {'peso': 80, 'idade': 42, 'saturação': 86},\n",
       "    {'peso': 112, 'idade': 86, 'saturação': 91},\n",
       "    {'peso': 73, 'idade': 47, 'saturação': 95},\n",
       "    {'peso': 62, 'idade': 76, 'saturação': 84},\n",
       "    {'peso': 83, 'idade': 49, 'saturação': 80},\n",
       "    {'peso': 86, 'idade': 17, 'saturação': 80}]},\n",
       "  {'localização': [0.16, 0.93],\n",
       "   'pacientes': [{'peso': 53, 'idade': 41, 'saturação': 88},\n",
       "    {'peso': 118, 'idade': 29, 'saturação': 89},\n",
       "    {'peso': 116, 'idade': 65, 'saturação': 86},\n",
       "    {'peso': 91, 'idade': 18, 'saturação': 84},\n",
       "    {'peso': 62, 'idade': 29, 'saturação': 90},\n",
       "    {'peso': 68, 'idade': 50, 'saturação': 92},\n",
       "    {'peso': 71, 'idade': 85, 'saturação': 98}]},\n",
       "  {'localização': [0.48, 0.69],\n",
       "   'pacientes': [{'peso': 84, 'idade': 76, 'saturação': 100},\n",
       "    {'peso': 45, 'idade': 42, 'saturação': 91},\n",
       "    {'peso': 83, 'idade': 44, 'saturação': 90},\n",
       "    {'peso': 128, 'idade': 76, 'saturação': 80},\n",
       "    {'peso': 40, 'idade': 41, 'saturação': 99},\n",
       "    {'peso': 116, 'idade': 17, 'saturação': 86},\n",
       "    {'peso': 109, 'idade': 86, 'saturação': 88}]},\n",
       "  {'localização': [0.35, 0.63],\n",
       "   'pacientes': [{'peso': 83, 'idade': 38, 'saturação': 94},\n",
       "    {'peso': 98, 'idade': 46, 'saturação': 88},\n",
       "    {'peso': 91, 'idade': 76, 'saturação': 96},\n",
       "    {'peso': 97, 'idade': 66, 'saturação': 91},\n",
       "    {'peso': 78, 'idade': 16, 'saturação': 82},\n",
       "    {'peso': 95, 'idade': 73, 'saturação': 96},\n",
       "    {'peso': 41, 'idade': 16, 'saturação': 84}]},\n",
       "  {'localização': [0.7, 0.86],\n",
       "   'pacientes': [{'peso': 41, 'idade': 67, 'saturação': 91},\n",
       "    {'peso': 129, 'idade': 46, 'saturação': 85},\n",
       "    {'peso': 71, 'idade': 82, 'saturação': 90},\n",
       "    {'peso': 95, 'idade': 31, 'saturação': 85},\n",
       "    {'peso': 63, 'idade': 83, 'saturação': 99},\n",
       "    {'peso': 109, 'idade': 25, 'saturação': 95},\n",
       "    {'peso': 55, 'idade': 87, 'saturação': 85}]},\n",
       "  {'localização': [0.56, 0.53],\n",
       "   'pacientes': [{'peso': 98, 'idade': 50, 'saturação': 98},\n",
       "    {'peso': 129, 'idade': 81, 'saturação': 98},\n",
       "    {'peso': 59, 'idade': 85, 'saturação': 99},\n",
       "    {'peso': 72, 'idade': 54, 'saturação': 86},\n",
       "    {'peso': 121, 'idade': 15, 'saturação': 90},\n",
       "    {'peso': 96, 'idade': 64, 'saturação': 89},\n",
       "    {'peso': 46, 'idade': 30, 'saturação': 95}]}]}"
      ]
     },
     "execution_count": 3,
     "metadata": {},
     "output_type": "execute_result"
    }
   ],
   "source": [
    "hospitals = []\n",
    "for i in range(n_hospitals):\n",
    "    patients = []\n",
    "    for j in range(n_patients):\n",
    "        weight = np.random.randint(40, 131)\n",
    "        age = np.random.randint(15, 91)\n",
    "        saturation = np.random.randint(80, 101)\n",
    "        patients.append({\n",
    "            'peso': weight,\n",
    "            'idade': age,\n",
    "            'saturação': saturation\n",
    "        })\n",
    "    x, y = np.random.rand(2, )\n",
    "    hospitals.append({\n",
    "        'localização': [round(x, 2), round(y, 2)],\n",
    "        'pacientes': patients\n",
    "    })\n",
    "    \n",
    "data = {'hospitais': hospitals}\n",
    "data"
   ]
  },
  {
   "cell_type": "code",
   "execution_count": 4,
   "id": "20bf3361",
   "metadata": {},
   "outputs": [],
   "source": [
    "with open(os.path.join(data_path, 'hospitals.json'), 'w', encoding='utf-8') as f:\n",
    "    json.dump(data, f, ensure_ascii=False, indent=4)"
   ]
  },
  {
   "cell_type": "markdown",
   "id": "d98cee92",
   "metadata": {},
   "source": [
    "## Case study"
   ]
  },
  {
   "cell_type": "markdown",
   "id": "420c0602",
   "metadata": {},
   "source": [
    "### Search for nearest hospital"
   ]
  },
  {
   "cell_type": "code",
   "execution_count": 5,
   "id": "26d55f28",
   "metadata": {},
   "outputs": [],
   "source": [
    "supervisor = [0.5, 0.5]"
   ]
  },
  {
   "cell_type": "code",
   "execution_count": 6,
   "id": "12b03076",
   "metadata": {},
   "outputs": [
    {
     "data": {
      "image/png": "[encoded data removed]",
      "text/plain": [
       "<Figure size 360x360 with 1 Axes>"
      ]
     },
     "metadata": {},
     "output_type": "display_data"
    }
   ],
   "source": [
    "fig, ax = plt.subplots(figsize=(5, 5))\n",
    "points = np.array([hospital['localização'] for hospital in data['hospitais']])\n",
    "ax.scatter(points[:, 0], points[:, 1])\n",
    "ax.scatter(*supervisor)\n",
    "plt.xlim([0, 1])\n",
    "plt.ylim([0, 1])\n",
    "plt.savefig('points.pdf', dpi=200)"
   ]
  },
  {
   "cell_type": "code",
   "execution_count": 7,
   "id": "42d861f4",
   "metadata": {},
   "outputs": [],
   "source": [
    "hospitals_tree = KDTree(2)\n",
    "for hospital in data['hospitais']:\n",
    "    hospitals_tree.add(hospital['localização'], metadata=hospital)"
   ]
  },
  {
   "cell_type": "code",
   "execution_count": 8,
   "id": "b524f7ca",
   "metadata": {},
   "outputs": [
    {
     "data": {
      "text/plain": [
       "[{'node': [0.56, 0.53],\n",
       "  'metadata': {'localização': [0.56, 0.53],\n",
       "   'pacientes': [{'peso': 98, 'idade': 50, 'saturação': 98},\n",
       "    {'peso': 129, 'idade': 81, 'saturação': 98},\n",
       "    {'peso': 59, 'idade': 85, 'saturação': 99},\n",
       "    {'peso': 72, 'idade': 54, 'saturação': 86},\n",
       "    {'peso': 121, 'idade': 15, 'saturação': 90},\n",
       "    {'peso': 96, 'idade': 64, 'saturação': 89},\n",
       "    {'peso': 46, 'idade': 30, 'saturação': 95}]}}]"
      ]
     },
     "execution_count": 8,
     "metadata": {},
     "output_type": "execute_result"
    }
   ],
   "source": [
    "hospitals_tree.knn(supervisor, 1)"
   ]
  },
  {
   "cell_type": "code",
   "execution_count": 9,
   "id": "09e3f69e",
   "metadata": {},
   "outputs": [
    {
     "data": {
      "text/plain": [
       "{'localização': [0.56, 0.53],\n",
       " 'pacientes': [{'peso': 98, 'idade': 50, 'saturação': 98},\n",
       "  {'peso': 129, 'idade': 81, 'saturação': 98},\n",
       "  {'peso': 59, 'idade': 85, 'saturação': 99},\n",
       "  {'peso': 72, 'idade': 54, 'saturação': 86},\n",
       "  {'peso': 121, 'idade': 15, 'saturação': 90},\n",
       "  {'peso': 96, 'idade': 64, 'saturação': 89},\n",
       "  {'peso': 46, 'idade': 30, 'saturação': 95}]}"
      ]
     },
     "execution_count": 9,
     "metadata": {},
     "output_type": "execute_result"
    }
   ],
   "source": [
    "nearest_hospital = hospitals_tree.knn(supervisor, 1)[0]['metadata']\n",
    "nearest_hospital"
   ]
  },
  {
   "cell_type": "markdown",
   "id": "fddd091f",
   "metadata": {},
   "source": [
    "### Search for \"nearest\" patients"
   ]
  },
  {
   "cell_type": "code",
   "execution_count": 10,
   "id": "967d7106",
   "metadata": {},
   "outputs": [],
   "source": [
    "def normalize(weight, age, saturation):\n",
    "    return (weight-40)/90, (age-15)/75, (saturation-80)/20"
   ]
  },
  {
   "cell_type": "code",
   "execution_count": 11,
   "id": "2eb797f3",
   "metadata": {},
   "outputs": [],
   "source": [
    "x = 3\n",
    "chosen_patient = [46, 30, 96]\n",
    "\n",
    "n_patients = x"
   ]
  },
  {
   "cell_type": "code",
   "execution_count": 12,
   "id": "fc5d3370",
   "metadata": {},
   "outputs": [],
   "source": [
    "patients_tree = KDTree(3)\n",
    "for patient in nearest_hospital['pacientes']:\n",
    "    patients_tree.add(\n",
    "        list(normalize(patient['peso'], patient['idade'], patient['saturação'])),\n",
    "        metadata=patient\n",
    "    )"
   ]
  },
  {
   "cell_type": "code",
   "execution_count": 13,
   "id": "8f16379e",
   "metadata": {},
   "outputs": [
    {
     "data": {
      "text/plain": [
       "[{'node': [0.06666666666666667, 0.2, 0.75],\n",
       "  'metadata': {'peso': 46, 'idade': 30, 'saturação': 95}},\n",
       " {'node': [0.6444444444444445, 0.4666666666666667, 0.9],\n",
       "  'metadata': {'peso': 98, 'idade': 50, 'saturação': 98}},\n",
       " {'node': [0.35555555555555557, 0.52, 0.3],\n",
       "  'metadata': {'peso': 72, 'idade': 54, 'saturação': 86}}]"
      ]
     },
     "execution_count": 13,
     "metadata": {},
     "output_type": "execute_result"
    }
   ],
   "source": [
    "patients_tree.knn(list(normalize(*chosen_patient)), x)"
   ]
  }
 ],
 "metadata": {
  "kernelspec": {
   "display_name": "Python 3 (ipykernel)",
   "language": "python",
   "name": "python3"
  },
  "language_info": {
   "codemirror_mode": {
    "name": "ipython",
    "version": 3
   },
   "file_extension": ".py",
   "mimetype": "text/x-python",
   "name": "python",
   "nbconvert_exporter": "python",
   "pygments_lexer": "ipython3",
   "version": "3.9.6"
  }
 },
 "nbformat": 4,
 "nbformat_minor": 5
}
