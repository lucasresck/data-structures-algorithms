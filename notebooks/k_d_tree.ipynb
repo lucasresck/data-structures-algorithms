{
 "cells": [
  {
   "cell_type": "markdown",
   "id": "b34cf456",
   "metadata": {},
   "source": [
    "## Setup"
   ]
  },
  {
   "cell_type": "code",
   "execution_count": 1,
   "id": "3d30a123",
   "metadata": {},
   "outputs": [],
   "source": [
    "import matplotlib.pyplot as plt\n",
    "import numpy as np\n",
    "import os\n",
    "import seaborn as sns\n",
    "import sys\n",
    "\n",
    "sns.set()\n",
    "sys.path.append('../trees/scripts/')\n",
    "\n",
    "from k_d_tree import KDTree"
   ]
  },
  {
   "cell_type": "code",
   "execution_count": 2,
   "id": "062e47e8",
   "metadata": {},
   "outputs": [],
   "source": [
    "data_path = os.path.join('../data/')\n",
    "n_hospitals = 10\n",
    "n_patients = 7"
   ]
  },
  {
   "cell_type": "markdown",
   "id": "6b63c335",
   "metadata": {},
   "source": [
    "## Data"
   ]
  },
  {
   "cell_type": "code",
   "execution_count": 3,
   "id": "615397d4",
   "metadata": {},
   "outputs": [
    {
     "data": {
      "text/plain": [
       "{'hospitais': [{'localização': [0.547187229829659, 0.3153550440922246],\n",
       "   'pacientes': [{'peso': 114.0289391192463,\n",
       "     'idade': 21.903467263308812,\n",
       "     'saturação': 84.71020722329212},\n",
       "    {'peso': 74.74284851442835,\n",
       "     'idade': 78.6185232607273,\n",
       "     'saturação': 95.20178303428013},\n",
       "    {'peso': 118.93050343098751,\n",
       "     'idade': 71.2451735840337,\n",
       "     'saturação': 97.5435342278668},\n",
       "    {'peso': 126.13105492480159,\n",
       "     'idade': 89.00419924395442,\n",
       "     'saturação': 93.73841979448915},\n",
       "    {'peso': 108.82719672733639,\n",
       "     'idade': 73.6755088281933,\n",
       "     'saturação': 97.27425144249145},\n",
       "    {'peso': 65.63869503112923,\n",
       "     'idade': 31.52168119063212,\n",
       "     'saturação': 92.64662744503768},\n",
       "    {'peso': 107.95340093704678,\n",
       "     'idade': 25.95014705341643,\n",
       "     'saturação': 83.01694336388638}]},\n",
       "  {'localização': [0.816951586875233, 0.9041523810563277],\n",
       "   'pacientes': [{'peso': 115.07244585210702,\n",
       "     'idade': 80.87410224240165,\n",
       "     'saturação': 96.90779723074078},\n",
       "    {'peso': 113.76557681032538,\n",
       "     'idade': 44.379551483000284,\n",
       "     'saturação': 95.88764252577413},\n",
       "    {'peso': 111.69936092875595,\n",
       "     'idade': 75.71187477081779,\n",
       "     'saturação': 82.02975588610795},\n",
       "    {'peso': 109.42177485361194,\n",
       "     'idade': 25.24751294762668,\n",
       "     'saturação': 93.95754711318806},\n",
       "    {'peso': 62.33290655400296,\n",
       "     'idade': 39.958817279475596,\n",
       "     'saturação': 89.20527056246871},\n",
       "    {'peso': 78.98870803206484,\n",
       "     'idade': 64.8669955919938,\n",
       "     'saturação': 90.4152357564468},\n",
       "    {'peso': 118.50650970292399,\n",
       "     'idade': 25.950233564789144,\n",
       "     'saturação': 89.86268793818462}]},\n",
       "  {'localização': [0.8224490646283571, 0.42605329793630464],\n",
       "   'pacientes': [{'peso': 111.83148772690616,\n",
       "     'idade': 77.68610001137836,\n",
       "     'saturação': 93.11452122639699},\n",
       "    {'peso': 119.68788687400315,\n",
       "     'idade': 24.066463849279977,\n",
       "     'saturação': 84.10590136861734},\n",
       "    {'peso': 96.3796409108272,\n",
       "     'idade': 79.19914219328713,\n",
       "     'saturação': 88.62302328623501},\n",
       "    {'peso': 49.30695351210881,\n",
       "     'idade': 77.29051939419458,\n",
       "     'saturação': 81.03249789255254},\n",
       "    {'peso': 112.82683156959992,\n",
       "     'idade': 29.367613378771928,\n",
       "     'saturação': 83.30255944728327},\n",
       "    {'peso': 83.744030469139,\n",
       "     'idade': 74.11064588954139,\n",
       "     'saturação': 82.60662037240827},\n",
       "    {'peso': 93.09807757210422,\n",
       "     'idade': 52.98767986445819,\n",
       "     'saturação': 98.87791725290435}]},\n",
       "  {'localização': [0.8242366986773239, 0.4885550060159751],\n",
       "   'pacientes': [{'peso': 74.76696965279504,\n",
       "     'idade': 41.26225206188922,\n",
       "     'saturação': 96.66344706266992},\n",
       "    {'peso': 117.91874658756024,\n",
       "     'idade': 89.26566446844612,\n",
       "     'saturação': 99.67016818947685},\n",
       "    {'peso': 50.39736592605324,\n",
       "     'idade': 36.58218792878155,\n",
       "     'saturação': 91.88448439665278},\n",
       "    {'peso': 126.99905116707693,\n",
       "     'idade': 60.80877525384322,\n",
       "     'saturação': 90.33767443166187},\n",
       "    {'peso': 80.66466951947287,\n",
       "     'idade': 88.135480739095,\n",
       "     'saturação': 88.62812210132029},\n",
       "    {'peso': 61.14836914256232,\n",
       "     'idade': 25.244800887831424,\n",
       "     'saturação': 86.1617099623256},\n",
       "    {'peso': 51.56461072812545,\n",
       "     'idade': 77.57128833324902,\n",
       "     'saturação': 97.70866910561837}]},\n",
       "  {'localização': [0.5276376850474349, 0.6855165922699856],\n",
       "   'pacientes': [{'peso': 105.96703425070432,\n",
       "     'idade': 81.36985722292236,\n",
       "     'saturação': 98.5049373741261},\n",
       "    {'peso': 95.18189824467049,\n",
       "     'idade': 28.52051454079239,\n",
       "     'saturação': 89.8692790690038},\n",
       "    {'peso': 123.93202047038956,\n",
       "     'idade': 35.68650623962998,\n",
       "     'saturação': 87.49904522341994},\n",
       "    {'peso': 58.105555668960164,\n",
       "     'idade': 17.801410781744586,\n",
       "     'saturação': 94.90839506044533},\n",
       "    {'peso': 106.17953552889627,\n",
       "     'idade': 37.36942591670286,\n",
       "     'saturação': 93.905618984786},\n",
       "    {'peso': 120.49267405279527,\n",
       "     'idade': 84.23997211850612,\n",
       "     'saturação': 87.98603544223657},\n",
       "    {'peso': 123.93394900861665,\n",
       "     'idade': 40.24186284390895,\n",
       "     'saturação': 94.18160022535098}]},\n",
       "  {'localização': [0.1687321201587334, 0.008021060253862955],\n",
       "   'pacientes': [{'peso': 62.22436882678946,\n",
       "     'idade': 44.45263000190894,\n",
       "     'saturação': 81.6150739106339},\n",
       "    {'peso': 102.6715113454597,\n",
       "     'idade': 20.350916703738527,\n",
       "     'saturação': 84.6030124607568},\n",
       "    {'peso': 122.85443897683334,\n",
       "     'idade': 49.841589947471896,\n",
       "     'saturação': 86.41661015487874},\n",
       "    {'peso': 129.88981974136243,\n",
       "     'idade': 79.69567716246996,\n",
       "     'saturação': 83.44929579656358},\n",
       "    {'peso': 43.24568138324803,\n",
       "     'idade': 61.01875063185377,\n",
       "     'saturação': 81.7910053964452},\n",
       "    {'peso': 126.49498157213982,\n",
       "     'idade': 42.50574355863195,\n",
       "     'saturação': 92.18307883372279},\n",
       "    {'peso': 76.08960699065113,\n",
       "     'idade': 64.51837244091533,\n",
       "     'saturação': 85.52350089135234}]},\n",
       "  {'localização': [0.7665793033046356, 0.24192990016627414],\n",
       "   'pacientes': [{'peso': 78.56884136534845,\n",
       "     'idade': 18.402978137714104,\n",
       "     'saturação': 98.23651853208183},\n",
       "    {'peso': 68.73008754798781,\n",
       "     'idade': 83.102483525121,\n",
       "     'saturação': 94.10047484225983},\n",
       "    {'peso': 47.498151025263645,\n",
       "     'idade': 68.82052997451436,\n",
       "     'saturação': 93.01169824830511},\n",
       "    {'peso': 44.63791416207384,\n",
       "     'idade': 75.2605214631376,\n",
       "     'saturação': 94.10792842741614},\n",
       "    {'peso': 127.27757269723799,\n",
       "     'idade': 50.70914570136926,\n",
       "     'saturação': 95.07414360244415},\n",
       "    {'peso': 112.37872253092263,\n",
       "     'idade': 63.4963105585739,\n",
       "     'saturação': 80.69764241633612},\n",
       "    {'peso': 40.71783064662614,\n",
       "     'idade': 75.91768444708839,\n",
       "     'saturação': 97.40364481151936}]},\n",
       "  {'localização': [0.7608620156578793, 0.041219197969050714],\n",
       "   'pacientes': [{'peso': 40.22043662184242,\n",
       "     'idade': 21.077497883664673,\n",
       "     'saturação': 97.82314767812915},\n",
       "    {'peso': 51.99380427782479,\n",
       "     'idade': 82.59929615210004,\n",
       "     'saturação': 96.7112544073699},\n",
       "    {'peso': 70.86063949605565,\n",
       "     'idade': 64.25602736034281,\n",
       "     'saturação': 82.1514002819332},\n",
       "    {'peso': 108.74251134868886,\n",
       "     'idade': 29.101730310277453,\n",
       "     'saturação': 80.12811303709186},\n",
       "    {'peso': 58.27997973140414,\n",
       "     'idade': 79.35687613428864,\n",
       "     'saturação': 93.39630749022658},\n",
       "    {'peso': 92.7949871480119,\n",
       "     'idade': 18.572842752123904,\n",
       "     'saturação': 84.30080181156352},\n",
       "    {'peso': 57.80826322907252,\n",
       "     'idade': 29.64540434031308,\n",
       "     'saturação': 99.85510448031476}]},\n",
       "  {'localização': [0.6577365837187059, 0.6304081540552713],\n",
       "   'pacientes': [{'peso': 103.11354550520156,\n",
       "     'idade': 54.473136085064795,\n",
       "     'saturação': 98.35092336338373},\n",
       "    {'peso': 54.79841199085591,\n",
       "     'idade': 48.11635666073914,\n",
       "     'saturação': 88.64911102729008},\n",
       "    {'peso': 44.37811560827489,\n",
       "     'idade': 71.15559099378007,\n",
       "     'saturação': 89.67082257600012},\n",
       "    {'peso': 112.04828547789457,\n",
       "     'idade': 64.10995117215793,\n",
       "     'saturação': 97.71386571670715},\n",
       "    {'peso': 42.80732570422218,\n",
       "     'idade': 85.32980208753284,\n",
       "     'saturação': 90.72581755629281},\n",
       "    {'peso': 74.05748661077325,\n",
       "     'idade': 52.5436384501955,\n",
       "     'saturação': 94.69277822955428},\n",
       "    {'peso': 60.78788110961962,\n",
       "     'idade': 29.120655332961547,\n",
       "     'saturação': 98.45461002090825}]},\n",
       "  {'localização': [0.49758480718519627, 0.7624276821059413],\n",
       "   'pacientes': [{'peso': 113.24668244920285,\n",
       "     'idade': 88.42559870365379,\n",
       "     'saturação': 95.55764101781482},\n",
       "    {'peso': 74.07959932792969,\n",
       "     'idade': 66.68307735701742,\n",
       "     'saturação': 89.23556057832361},\n",
       "    {'peso': 81.9670045160322,\n",
       "     'idade': 26.324232201782387,\n",
       "     'saturação': 86.78030784190936},\n",
       "    {'peso': 57.39989440138179,\n",
       "     'idade': 46.07667867137097,\n",
       "     'saturação': 91.79643536654555},\n",
       "    {'peso': 61.49341224064333,\n",
       "     'idade': 28.60438534778411,\n",
       "     'saturação': 89.97807296504894},\n",
       "    {'peso': 83.29092775794545,\n",
       "     'idade': 36.49372685018638,\n",
       "     'saturação': 88.53215882038843},\n",
       "    {'peso': 66.96152855224845,\n",
       "     'idade': 27.32164226643675,\n",
       "     'saturação': 86.74765313981442}]}]}"
      ]
     },
     "execution_count": 3,
     "metadata": {},
     "output_type": "execute_result"
    }
   ],
   "source": [
    "hospitals = []\n",
    "for i in range(n_hospitals):\n",
    "    patients = []\n",
    "    for j in range(n_patients):\n",
    "        info = np.random.rand(3)*np.array([90, 75, 20]) + np.array([40, 15, 80])\n",
    "        patients.append({\n",
    "            'peso': info[0],\n",
    "            'idade': info[1],\n",
    "            'saturação': info[2]\n",
    "        })\n",
    "    x, y = np.random.rand(2)\n",
    "    hospitals.append({\n",
    "        'localização': [x, y],\n",
    "        'pacientes': patients\n",
    "    })\n",
    "    \n",
    "data = {'hospitais': hospitals}\n",
    "data"
   ]
  },
  {
   "cell_type": "code",
   "execution_count": 4,
   "id": "20bf3361",
   "metadata": {},
   "outputs": [],
   "source": [
    "import json\n",
    "with open(os.path.join(data_path, 'data.json'), 'w', encoding='utf-8') as f:\n",
    "    json.dump(data, f, ensure_ascii=False, indent=4)"
   ]
  },
  {
   "cell_type": "markdown",
   "id": "d98cee92",
   "metadata": {},
   "source": [
    "## Exercise"
   ]
  },
  {
   "cell_type": "code",
   "execution_count": 5,
   "id": "26d55f28",
   "metadata": {},
   "outputs": [],
   "source": [
    "supervisor = [0.5, 0.5]"
   ]
  },
  {
   "cell_type": "code",
   "execution_count": 6,
   "id": "54784a80",
   "metadata": {},
   "outputs": [
    {
     "data": {
      "text/plain": [
       "array([[0.54718723, 0.31535504],\n",
       "       [0.81695159, 0.90415238],\n",
       "       [0.82244906, 0.4260533 ],\n",
       "       [0.8242367 , 0.48855501],\n",
       "       [0.52763769, 0.68551659],\n",
       "       [0.16873212, 0.00802106],\n",
       "       [0.7665793 , 0.2419299 ],\n",
       "       [0.76086202, 0.0412192 ],\n",
       "       [0.65773658, 0.63040815],\n",
       "       [0.49758481, 0.76242768]])"
      ]
     },
     "execution_count": 6,
     "metadata": {},
     "output_type": "execute_result"
    }
   ],
   "source": [
    "points = np.array([hospital['localização'] for hospital in data['hospitais']])\n",
    "points"
   ]
  },
  {
   "cell_type": "code",
   "execution_count": 7,
   "id": "12b03076",
   "metadata": {},
   "outputs": [
    {
     "data": {
      "image/png": "[encoded data removed]",
      "text/plain": [
       "<Figure size 432x288 with 1 Axes>"
      ]
     },
     "metadata": {},
     "output_type": "display_data"
    }
   ],
   "source": [
    "plt.scatter(points[:, 0], points[:, 1])\n",
    "plt.scatter(*supervisor)\n",
    "plt.show()"
   ]
  },
  {
   "cell_type": "code",
   "execution_count": 8,
   "id": "42d861f4",
   "metadata": {},
   "outputs": [],
   "source": [
    "hospitals_tree = KDTree(2)\n",
    "for point in points.tolist():\n",
    "    hospitals_tree.add(point)"
   ]
  },
  {
   "cell_type": "code",
   "execution_count": 9,
   "id": "09e3f69e",
   "metadata": {},
   "outputs": [
    {
     "data": {
      "text/plain": [
       "[[0.5276376850474349, 0.6855165922699856]]"
      ]
     },
     "execution_count": 9,
     "metadata": {},
     "output_type": "execute_result"
    }
   ],
   "source": [
    "hospitals_tree.knn(supervisor, 1)"
   ]
  }
 ],
 "metadata": {
  "kernelspec": {
   "display_name": "Python 3 (ipykernel)",
   "language": "python",
   "name": "python3"
  },
  "language_info": {
   "codemirror_mode": {
    "name": "ipython",
    "version": 3
   },
   "file_extension": ".py",
   "mimetype": "text/x-python",
   "name": "python",
   "nbconvert_exporter": "python",
   "pygments_lexer": "ipython3",
   "version": "3.9.6"
  }
 },
 "nbformat": 4,
 "nbformat_minor": 5
}
